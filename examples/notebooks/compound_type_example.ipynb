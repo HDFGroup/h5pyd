{
 "cells": [
  {
   "cell_type": "code",
   "execution_count": 1,
   "metadata": {},
   "outputs": [],
   "source": [
    "import random\n",
    "import numpy as np\n",
    "USE_H5PY=False\n",
    "if USE_H5PY:\n",
    "    import h5py\n",
    "    filepath = \"./compound.h5\"\n",
    "else:\n",
    "    import h5pyd as h5py\n",
    "    filepath = \"/home/test_user1/test/compound.h5\""
   ]
  },
  {
   "cell_type": "code",
   "execution_count": 2,
   "metadata": {},
   "outputs": [],
   "source": [
    "# create a new domain/file\n",
    "f = h5py.File(filepath, \"w\")"
   ]
  },
  {
   "cell_type": "code",
   "execution_count": 3,
   "metadata": {},
   "outputs": [],
   "source": [
    "# create a numpy dtype with 260 Fields: \n",
    "# A0, A1, A2, ..., Z7, Z8, Z9\n",
    "fields = []\n",
    "for i in range(26):\n",
    "    ch1 = chr(ord('A') + i)\n",
    "    for j in range(10):\n",
    "        ch2 = chr(ord('0') + j)\n",
    "        fields.append((ch1+ch2, \"S6\"))\n",
    "dt = np.dtype(fields)\n"
   ]
  },
  {
   "cell_type": "code",
   "execution_count": 4,
   "metadata": {},
   "outputs": [
    {
     "data": {
      "text/plain": [
       "<HDF5 dataset \"dset\": shape (10000,), type \"|V1560\">"
      ]
     },
     "execution_count": 4,
     "metadata": {},
     "output_type": "execute_result"
    }
   ],
   "source": [
    "# create a dataset using the dtype\n",
    "NUM_ROWS = 10000\n",
    "dset = f.create_dataset(\"dset\", (NUM_ROWS,), dtype=dt)\n",
    "dset\n"
   ]
  },
  {
   "cell_type": "code",
   "execution_count": 5,
   "metadata": {},
   "outputs": [],
   "source": [
    "# write some values into the dataset\n",
    "arr = np.zeros((NUM_ROWS,), dtype=dt)\n",
    "for i in range(NUM_ROWS):\n",
    "    row = arr[i]\n",
    "    for name in dt.names:\n",
    "        row[name] = f\"{i:03d}_{name}\".encode()\n",
    "dset[:] = arr[:]"
   ]
  },
  {
   "cell_type": "code",
   "execution_count": 6,
   "metadata": {},
   "outputs": [
    {
     "data": {
      "text/plain": [
       "['G4', 'Z3', 'P5', 'A2', 'Q7', 'N9', 'C2', 'H6', 'A0', 'K3']"
      ]
     },
     "execution_count": 6,
     "metadata": {},
     "output_type": "execute_result"
    }
   ],
   "source": [
    "# get a random set of field names.\n",
    "# k controls the max number of names returned\n",
    "names = random.choices(dt.names, k=10)\n",
    "names = list(set(names))\n",
    "names"
   ]
  },
  {
   "cell_type": "code",
   "execution_count": 7,
   "metadata": {},
   "outputs": [
    {
     "name": "stdout",
     "output_type": "stream",
     "text": [
      "CPU times: user 45.6 ms, sys: 4.02 ms, total: 49.7 ms\n",
      "Wall time: 146 ms\n"
     ]
    },
    {
     "data": {
      "text/plain": [
       "array([(b'000_G4', b'000_Z3', b'000_P5', b'000_A2', b'000_Q7', b'000_N9', b'000_C2', b'000_H6', b'000_A0', b'000_K3'),\n",
       "       (b'001_G4', b'001_Z3', b'001_P5', b'001_A2', b'001_Q7', b'001_N9', b'001_C2', b'001_H6', b'001_A0', b'001_K3'),\n",
       "       (b'002_G4', b'002_Z3', b'002_P5', b'002_A2', b'002_Q7', b'002_N9', b'002_C2', b'002_H6', b'002_A0', b'002_K3'),\n",
       "       ...,\n",
       "       (b'9997_G', b'9997_Z', b'9997_P', b'9997_A', b'9997_Q', b'9997_N', b'9997_C', b'9997_H', b'9997_A', b'9997_K'),\n",
       "       (b'9998_G', b'9998_Z', b'9998_P', b'9998_A', b'9998_Q', b'9998_N', b'9998_C', b'9998_H', b'9998_A', b'9998_K'),\n",
       "       (b'9999_G', b'9999_Z', b'9999_P', b'9999_A', b'9999_Q', b'9999_N', b'9999_C', b'9999_H', b'9999_A', b'9999_K')],\n",
       "      dtype={'names': ['G4', 'Z3', 'P5', 'A2', 'Q7', 'N9', 'C2', 'H6', 'A0', 'K3'], 'formats': ['S6', 'S6', 'S6', 'S6', 'S6', 'S6', 'S6', 'S6', 'S6', 'S6'], 'offsets': [384, 1518, 930, 12, 1002, 834, 132, 456, 0, 618], 'itemsize': 1560})"
      ]
     },
     "execution_count": 7,
     "metadata": {},
     "output_type": "execute_result"
    }
   ],
   "source": [
    "# Get the dataset values and then return the field selection\n",
    "%time dset[:][names]"
   ]
  },
  {
   "cell_type": "code",
   "execution_count": 8,
   "metadata": {},
   "outputs": [
    {
     "name": "stdout",
     "output_type": "stream",
     "text": [
      "CPU times: user 1.11 ms, sys: 3.89 ms, total: 5 ms\n",
      "Wall time: 25.6 ms\n"
     ]
    },
    {
     "data": {
      "text/plain": [
       "array([(b'000_G4', b'000_Z3', b'000_P5', b'000_A2', b'000_Q7', b'000_N9', b'000_C2', b'000_H6', b'000_A0', b'000_K3'),\n",
       "       (b'001_G4', b'001_Z3', b'001_P5', b'001_A2', b'001_Q7', b'001_N9', b'001_C2', b'001_H6', b'001_A0', b'001_K3'),\n",
       "       (b'002_G4', b'002_Z3', b'002_P5', b'002_A2', b'002_Q7', b'002_N9', b'002_C2', b'002_H6', b'002_A0', b'002_K3'),\n",
       "       ...,\n",
       "       (b'9997_G', b'9997_Z', b'9997_P', b'9997_A', b'9997_Q', b'9997_N', b'9997_C', b'9997_H', b'9997_A', b'9997_K'),\n",
       "       (b'9998_G', b'9998_Z', b'9998_P', b'9998_A', b'9998_Q', b'9998_N', b'9998_C', b'9998_H', b'9998_A', b'9998_K'),\n",
       "       (b'9999_G', b'9999_Z', b'9999_P', b'9999_A', b'9999_Q', b'9999_N', b'9999_C', b'9999_H', b'9999_A', b'9999_K')],\n",
       "      dtype=[('G4', 'S6'), ('Z3', 'S6'), ('P5', 'S6'), ('A2', 'S6'), ('Q7', 'S6'), ('N9', 'S6'), ('C2', 'S6'), ('H6', 'S6'), ('A0', 'S6'), ('K3', 'S6')])"
      ]
     },
     "execution_count": 8,
     "metadata": {},
     "output_type": "execute_result"
    }
   ],
   "source": [
    "# Have HSDS (or HDF5 lib) return just the values for the given set of field names\n",
    "# Will return same values as above cell, but should be faster as less data needs \n",
    "# to be transferred \n",
    "%time dset.fields(names)[:]"
   ]
  },
  {
   "cell_type": "code",
   "execution_count": 9,
   "metadata": {},
   "outputs": [],
   "source": [
    "f.close()"
   ]
  }
 ],
 "metadata": {
  "kernelspec": {
   "display_name": "hs",
   "language": "python",
   "name": "python3"
  },
  "language_info": {
   "codemirror_mode": {
    "name": "ipython",
    "version": 3
   },
   "file_extension": ".py",
   "mimetype": "text/x-python",
   "name": "python",
   "nbconvert_exporter": "python",
   "pygments_lexer": "ipython3",
   "version": "3.11.9"
  }
 },
 "nbformat": 4,
 "nbformat_minor": 2
}
